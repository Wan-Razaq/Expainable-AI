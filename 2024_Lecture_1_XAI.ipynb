{
 "cells": [
  {
   "cell_type": "markdown",
   "metadata": {
    "id": "NCzjoKS8Ksqt"
   },
   "source": [
    "# 2023/24-XAI-LABS\n",
    "Note that this lab has three levels: basic, regular and advanced.\\\n",
    "Doing the **basic** part earns you a grade of 5.5-6.0.\\\n",
    "Doing the **regular** part earns you a max grade of 8.\\\n",
    "Doing the **advanced** part earns you a max grade of 10.0.\n",
    "\n",
    "Please return a Jupyter notebook as a submission in Canvas, to make the grading easier for us.\n",
    "\n",
    "**Group No:**\n",
    "\n",
    "**Student Name**:\n",
    "\n",
    "**Student Name**:\n",
    "**Student Name**:"
   ]
  },
  {
   "cell_type": "markdown",
   "metadata": {
    "id": "erEvOhDMJ9AX"
   },
   "source": [
    "#Lecture 1\n",
    "The following set of exercises are related to the Lecture 1.\n",
    "## Feature Importance\n",
    "### Exercises on Permutation Feature Importance\n",
    "In this exercise we apply permutation feature importance to a real world dataset. We attempt is using two ways.\n",
    "1. Using our own basic implmenattion of the algorithm\n",
    "2. Using the exiting libraries\n",
    "\n",
    "**Acknowledgement** : Some code is generated using chatgpt but it is tested for any errors."
   ]
  },
  {
   "cell_type": "code",
   "execution_count": 2,
   "metadata": {
    "id": "R4QggcdHLltd"
   },
   "outputs": [],
   "source": [
    "# First of all import the required packages\n",
    "# Load required libraries\n",
    "from sklearn.datasets import load_breast_cancer\n",
    "from sklearn.model_selection import train_test_split"
   ]
  },
  {
   "cell_type": "markdown",
   "metadata": {
    "id": "pGeGtGFLNaJg"
   },
   "source": [
    "We'll use the 'breast_cancer' dataset from 'sklearn.datasets', which is a binary classification problem."
   ]
  },
  {
   "cell_type": "code",
   "execution_count": 3,
   "metadata": {
    "id": "fbRgtzuaNbjm"
   },
   "outputs": [],
   "source": [
    "# Load dataset\n",
    "data =load_breast_cancer()\n",
    "X=data.data\n",
    "y=data.target"
   ]
  },
  {
   "cell_type": "markdown",
   "metadata": {
    "id": "GbuaPSE_NjEo"
   },
   "source": [
    "Split data into train and test. Fix the random state seed and also use 20% for testing"
   ]
  },
  {
   "cell_type": "code",
   "execution_count": 4,
   "metadata": {
    "id": "ygsgBwP6NsQR"
   },
   "outputs": [],
   "source": [
    "X_train, X_test, y_train, y_test = train_test_split(X, y, test_size=0.2, random_state=42)"
   ]
  },
  {
   "cell_type": "markdown",
   "metadata": {
    "id": "yUANGfcLN5t_"
   },
   "source": [
    "#### Train a Model\n",
    "One can use any classifier to train the model. Here we will use **random forest** classifier"
   ]
  },
  {
   "cell_type": "code",
   "execution_count": 5,
   "metadata": {
    "colab": {
     "base_uri": "https://localhost:8080/",
     "height": 75
    },
    "id": "tjl9o74POGrm",
    "outputId": "1d259ed7-0140-43a4-8e5f-595766e283fa"
   },
   "outputs": [
    {
     "data": {
      "text/html": [
       "<style>#sk-container-id-1 {color: black;background-color: white;}#sk-container-id-1 pre{padding: 0;}#sk-container-id-1 div.sk-toggleable {background-color: white;}#sk-container-id-1 label.sk-toggleable__label {cursor: pointer;display: block;width: 100%;margin-bottom: 0;padding: 0.3em;box-sizing: border-box;text-align: center;}#sk-container-id-1 label.sk-toggleable__label-arrow:before {content: \"▸\";float: left;margin-right: 0.25em;color: #696969;}#sk-container-id-1 label.sk-toggleable__label-arrow:hover:before {color: black;}#sk-container-id-1 div.sk-estimator:hover label.sk-toggleable__label-arrow:before {color: black;}#sk-container-id-1 div.sk-toggleable__content {max-height: 0;max-width: 0;overflow: hidden;text-align: left;background-color: #f0f8ff;}#sk-container-id-1 div.sk-toggleable__content pre {margin: 0.2em;color: black;border-radius: 0.25em;background-color: #f0f8ff;}#sk-container-id-1 input.sk-toggleable__control:checked~div.sk-toggleable__content {max-height: 200px;max-width: 100%;overflow: auto;}#sk-container-id-1 input.sk-toggleable__control:checked~label.sk-toggleable__label-arrow:before {content: \"▾\";}#sk-container-id-1 div.sk-estimator input.sk-toggleable__control:checked~label.sk-toggleable__label {background-color: #d4ebff;}#sk-container-id-1 div.sk-label input.sk-toggleable__control:checked~label.sk-toggleable__label {background-color: #d4ebff;}#sk-container-id-1 input.sk-hidden--visually {border: 0;clip: rect(1px 1px 1px 1px);clip: rect(1px, 1px, 1px, 1px);height: 1px;margin: -1px;overflow: hidden;padding: 0;position: absolute;width: 1px;}#sk-container-id-1 div.sk-estimator {font-family: monospace;background-color: #f0f8ff;border: 1px dotted black;border-radius: 0.25em;box-sizing: border-box;margin-bottom: 0.5em;}#sk-container-id-1 div.sk-estimator:hover {background-color: #d4ebff;}#sk-container-id-1 div.sk-parallel-item::after {content: \"\";width: 100%;border-bottom: 1px solid gray;flex-grow: 1;}#sk-container-id-1 div.sk-label:hover label.sk-toggleable__label {background-color: #d4ebff;}#sk-container-id-1 div.sk-serial::before {content: \"\";position: absolute;border-left: 1px solid gray;box-sizing: border-box;top: 0;bottom: 0;left: 50%;z-index: 0;}#sk-container-id-1 div.sk-serial {display: flex;flex-direction: column;align-items: center;background-color: white;padding-right: 0.2em;padding-left: 0.2em;position: relative;}#sk-container-id-1 div.sk-item {position: relative;z-index: 1;}#sk-container-id-1 div.sk-parallel {display: flex;align-items: stretch;justify-content: center;background-color: white;position: relative;}#sk-container-id-1 div.sk-item::before, #sk-container-id-1 div.sk-parallel-item::before {content: \"\";position: absolute;border-left: 1px solid gray;box-sizing: border-box;top: 0;bottom: 0;left: 50%;z-index: -1;}#sk-container-id-1 div.sk-parallel-item {display: flex;flex-direction: column;z-index: 1;position: relative;background-color: white;}#sk-container-id-1 div.sk-parallel-item:first-child::after {align-self: flex-end;width: 50%;}#sk-container-id-1 div.sk-parallel-item:last-child::after {align-self: flex-start;width: 50%;}#sk-container-id-1 div.sk-parallel-item:only-child::after {width: 0;}#sk-container-id-1 div.sk-dashed-wrapped {border: 1px dashed gray;margin: 0 0.4em 0.5em 0.4em;box-sizing: border-box;padding-bottom: 0.4em;background-color: white;}#sk-container-id-1 div.sk-label label {font-family: monospace;font-weight: bold;display: inline-block;line-height: 1.2em;}#sk-container-id-1 div.sk-label-container {text-align: center;}#sk-container-id-1 div.sk-container {/* jupyter's `normalize.less` sets `[hidden] { display: none; }` but bootstrap.min.css set `[hidden] { display: none !important; }` so we also need the `!important` here to be able to override the default hidden behavior on the sphinx rendered scikit-learn.org. See: https://github.com/scikit-learn/scikit-learn/issues/21755 */display: inline-block !important;position: relative;}#sk-container-id-1 div.sk-text-repr-fallback {display: none;}</style><div id=\"sk-container-id-1\" class=\"sk-top-container\"><div class=\"sk-text-repr-fallback\"><pre>RandomForestClassifier(random_state=42)</pre><b>In a Jupyter environment, please rerun this cell to show the HTML representation or trust the notebook. <br />On GitHub, the HTML representation is unable to render, please try loading this page with nbviewer.org.</b></div><div class=\"sk-container\" hidden><div class=\"sk-item\"><div class=\"sk-estimator sk-toggleable\"><input class=\"sk-toggleable__control sk-hidden--visually\" id=\"sk-estimator-id-1\" type=\"checkbox\" checked><label for=\"sk-estimator-id-1\" class=\"sk-toggleable__label sk-toggleable__label-arrow\">RandomForestClassifier</label><div class=\"sk-toggleable__content\"><pre>RandomForestClassifier(random_state=42)</pre></div></div></div></div></div>"
      ],
      "text/plain": [
       "RandomForestClassifier(random_state=42)"
      ]
     },
     "execution_count": 5,
     "metadata": {},
     "output_type": "execute_result"
    }
   ],
   "source": [
    "from sklearn.ensemble import RandomForestClassifier\n",
    "\n",
    "clf = RandomForestClassifier(n_estimators=100, random_state=42)\n",
    "clf.fit(X_train, y_train)"
   ]
  },
  {
   "cell_type": "code",
   "execution_count": 6,
   "metadata": {
    "colab": {
     "base_uri": "https://localhost:8080/"
    },
    "id": "MYzUmumOOPUX",
    "outputId": "21a5417d-82e5-4833-b624-a382cd5af87b"
   },
   "outputs": [
    {
     "name": "stdout",
     "output_type": "stream",
     "text": [
      "              precision    recall  f1-score   support\n",
      "\n",
      "           0       0.98      0.93      0.95        43\n",
      "           1       0.96      0.99      0.97        71\n",
      "\n",
      "    accuracy                           0.96       114\n",
      "   macro avg       0.97      0.96      0.96       114\n",
      "weighted avg       0.97      0.96      0.96       114\n",
      "\n"
     ]
    }
   ],
   "source": [
    "# Lets us check how well our model is doing\n",
    "from sklearn.metrics import classification_report\n",
    "\n",
    "y_pred = clf.predict(X_test)\n",
    "\n",
    "print(classification_report(y_test, y_pred))"
   ]
  },
  {
   "cell_type": "code",
   "execution_count": 7,
   "metadata": {
    "colab": {
     "base_uri": "https://localhost:8080/",
     "height": 547
    },
    "id": "N6DFUdBVOVa2",
    "outputId": "ddad0b42-4093-474f-9e07-cbb4e6de4c90"
   },
   "outputs": [
    {
     "data": {
      "image/png": "[encoded data removed]",
      "text/plain": [
       "<Figure size 800x600 with 2 Axes>"
      ]
     },
     "metadata": {},
     "output_type": "display_data"
    }
   ],
   "source": [
    "from sklearn.metrics import confusion_matrix\n",
    "import seaborn as sns\n",
    "import matplotlib.pyplot as plt\n",
    "\n",
    "# Generate the confusion matrix\n",
    "cm = confusion_matrix(y_test, y_pred)\n",
    "\n",
    "# Visualize the confusion matrix using seaborn's heatmap\n",
    "plt.figure(figsize=(8, 6))\n",
    "sns.heatmap(cm, annot=True, fmt='g', cmap='Blues', xticklabels=data.target_names,\n",
    "            yticklabels=data.target_names)\n",
    "plt.xlabel('Predicted')\n",
    "plt.ylabel('Actual')\n",
    "plt.show()"
   ]
  },
  {
   "cell_type": "code",
   "execution_count": null,
   "metadata": {
    "id": "oTA9gQ4kOo6m"
   },
   "outputs": [],
   "source": []
  },
  {
   "cell_type": "markdown",
   "metadata": {
    "id": "snyZub4ZOpue"
   },
   "source": [
    "###(Basic)Exercise 1\n",
    "Provide an implementation of the basic algorithm on permutation feature importance.\n",
    "*Note:*You will be graded on storage, copying, and handling of the random state."
   ]
  },
  {
   "cell_type": "code",
   "execution_count": 30,
   "metadata": {
    "id": "t8gQFwXuPO3m"
   },
   "outputs": [
    {
     "name": "stdout",
     "output_type": "stream",
     "text": [
      "Feature Importances: [0.         0.00877193 0.         0.00877193 0.         0.00877193\n",
      " 0.00877193 0.00877193 0.         0.         0.00877193 0.\n",
      " 0.00877193 0.00877193 0.00877193 0.00877193 0.         0.\n",
      " 0.         0.00877193 0.         0.         0.00877193 0.\n",
      " 0.         0.         0.         0.         0.         0.00877193]\n"
     ]
    }
   ],
   "source": [
    "from sklearn.metrics import accuracy_score\n",
    "import numpy as np\n",
    "\n",
    "def permutation_importance(model, X_test, y_test, metric, random_state=None):\n",
    "  # do something with baseline accuracy\n",
    "\n",
    "  # Where will you store computed importance\n",
    "\n",
    "  # Think about doing it for all features.\n",
    "  # Think about shuffling parts of a column\n",
    "  #  Compute accuracy after shuffling\n",
    "  # Compute the difference from the baseline\n",
    "  # Return the accuracy.\n",
    "\n",
    "    # Ensure reproducability (random number generator)\n",
    "    rng = np.random.default_rng(random_state)\n",
    "    \n",
    "    # Calculate the baseline metric (accuracy)\n",
    "    y_pred = model.predict(X_test)\n",
    "    baseline_accuracy = metric(y_test, y_pred)\n",
    "    \n",
    "    # Initialize an array to hold the importance\n",
    "    importances = np.zeros(X_test.shape[1])\n",
    "    \n",
    "    # Permute each feature and calculate the new accuracy\n",
    "    for i in range(X_test.shape[1]):\n",
    "        # save original column\n",
    "        saved_column = X_test[:, i].copy()\n",
    "        \n",
    "        # shuffle the column\n",
    "        rng.shuffle(X_test[:, 1])\n",
    "        \n",
    "        # Calculate new prediction\n",
    "        new_predictions = model.predict(X_test)\n",
    "        new_accuracy = metric(y_test, new_predictions)\n",
    "        \n",
    "        # Compute the importance\n",
    "        importances[i] = baseline_accuracy - new_accuracy\n",
    "        \n",
    "        # Restore original data\n",
    "        X_test[:, i] = saved_column\n",
    "        \n",
    "    return importances\n",
    "\n",
    "# Use the feature importance function\n",
    "feature_importances = permutation_importance(clf, X_test, y_test, accuracy_score, random_state=42)\n",
    "print(\"Feature Importances:\", feature_importances)\n",
    "        \n",
    "        \n",
    "    "
   ]
  },
  {
   "cell_type": "markdown",
   "metadata": {
    "id": "hUnvtXq-QIcj"
   },
   "source": [
    "# (Regular)Exercise 2:\n",
    "In this exercise you will test and compare your implemntation. As a baseline we use the implemnattion from SKLEARN. Create tests to test your implementation thorougly. You will graded on aspects such as improving the computational feasibility, reducing the impact of randomization, efficient storage and retrivel of results, and creation of visulization."
   ]
  },
  {
   "cell_type": "code",
   "execution_count": 26,
   "metadata": {
    "id": "HsKCvNRBROOd"
   },
   "outputs": [
    {
     "name": "stdout",
     "output_type": "stream",
     "text": [
      "Custom implementation time: 0.24926996231079102\n",
      "Sklearn implementation time: 2.3484671115875244\n"
     ]
    },
    {
     "data": {
      "image/png": "[encoded data removed]",
      "text/plain": [
       "<Figure size 640x480 with 1 Axes>"
      ]
     },
     "metadata": {},
     "output_type": "display_data"
    }
   ],
   "source": [
    "from sklearn.inspection import permutation_importance as sklearn_permutatin_importance\n",
    "\n",
    "# Use SKlearn for implementing permutation importance\n",
    "sklearn_results = sklearn_permutation_importance(clf, X_test, y_test, n_repeats=10, random_state=42, n_jobs=1)\n",
    "sklearn_importances =sklearn_results.importances_mean\n",
    "\n",
    "# Time for our algorithm\n",
    "start_time = time.time()\n",
    "custom_importances = permutation_importance(clf, X_test, y_test, accuracy_score, random_state=42)\n",
    "elapsed_time = time.time() - start_time\n",
    "\n",
    "# Time for SKlearn algorithm for permutation importance\n",
    "start_time_sklearn = time.time()\n",
    "sklearn_results = sklearn_permutation_importance(clf, X_test, y_test, n_repeats=10, random_state=42, n_jobs=1)\n",
    "elapsed_time_sklearn = time.time() - start_time_sklearn\n",
    "\n",
    "# Compare results\n",
    "print(\"Custom implementation time:\", elapsed_time)\n",
    "print(\"Sklearn implementation time:\", elapsed_time_sklearn)\n",
    "\n",
    "# Visualization\n",
    "features = data.feature_names\n",
    "fig, ax = plt.subplots()\n",
    "index = range(len(features))\n",
    "bar_width = 0.35\n",
    "\n",
    "rects1 = ax.bar(index, custom_importances, bar_width, label='Custom')\n",
    "rects2 = ax.bar([p + bar_width for p in index], sklearn_importances, bar_width, label='Sklearn')\n",
    "\n",
    "ax.set_xlabel('Features')\n",
    "ax.set_ylabel('Importance')\n",
    "ax.set_title('Feature Importances by Custom and Sklearn Implementation')\n",
    "ax.set_xticks([p + bar_width / 2 for p in index])\n",
    "ax.set_xticklabels(features, rotation=90)\n",
    "ax.legend()\n",
    "\n",
    "plt.show()"
   ]
  },
  {
   "cell_type": "markdown",
   "metadata": {
    "id": "nfxyI9S0RSCr"
   },
   "source": [
    "### How to interpret\n",
    "**Zero Importance:** A feature with an importance close to zero has little to no impact on the model's predictive performance. In the context of permutation importance, this means that shuffling the feature values (randomizing them) doesn't really change the model's performance.\n",
    "\n",
    "- **Follow-up Action:** Features with zero importance might not be necessary for the model. You could consider removing them in subsequent model training to simplify the model without sacrificing performance. However, it's essential to re-evaluate the model after removal to ensure no significant performance drop.\n",
    "\n",
    "**Positive Importance:** This indicates that the feature has a positive effect on the model's predictive performance. Randomizing this feature's values (through permutation) worsens the model's performance.\n",
    "\n",
    "- **Follow-up Action:** Features with positive importance are valuable to the model. They should be retained in the dataset. Further, understanding why these features are important can provide insights into the problem domain.\n",
    "\n",
    "**Negative Importance:** A negative importance suggests that the random permutation of this feature actually improved the model's performance. This is counterintuitive and could indicate that the feature might be misleading the model when it's not permuted. However, it can also be due to noise or randomness, especially if the negative value is not significant.\n",
    "\n",
    "- ** Follow-up Action:** It's essential to investigate features with negative importance. If consistent across multiple runs or models, consider whether the feature is correctly constructed or whether there might be data leakage. Depending on the analysis, you might choose to remove or modify such features.\n",
    "\n",
    "**General Tips:**\n",
    "- Before making decisions based solely on permutation importance, consider other methods of feature importance or selection to get a holistic view.\n",
    "- Domain knowledge is invaluable. Feature importance should be interpreted in the context of the problem domain. For instance, even if a feature has low importance, it might be kept for reasons of interpretability or domain significance.\n",
    "- Always retrain and re-evaluate the model after making changes based on feature importance to ensure that the model's performance remains consistent or improves.\n",
    "\n",
    "### (Advanced)Exercise 3\n",
    "- Using the above guideline interpret the feature importance plot.\n",
    "- What will be the impact of using different classifier? The question can be answered by running a comparative study for different classifier."
   ]
  },
  {
   "cell_type": "code",
   "execution_count": null,
   "metadata": {
    "id": "-ys7wfpIvWKb"
   },
   "outputs": [],
   "source": []
  },
  {
   "cell_type": "markdown",
   "metadata": {
    "id": "3UotPxmyvW6A"
   },
   "source": [
    "###(Advanced) Exercise 4\n",
    "Create a dataset with 2 features and a target, such that the pdp of the first feature is flat, but its permutation importance is high. We will use a RandomForest for the model.\n",
    "\n",
    "**Exercise credit**: https://www.kaggle.com/code/dansbecker/exercise-partial-plots"
   ]
  },
  {
   "cell_type": "code",
   "execution_count": null,
   "metadata": {
    "id": "bf5MYfKpvyHu"
   },
   "outputs": [],
   "source": [
    "import numpy as np\n",
    "import pandas as pd\n",
    "from sklearn.ensemble import RandomForestRegressor\n",
    "from sklearn.model_selection import train_test_split\n",
    "from sklearn.inspection import permutation_importance\n",
    "from sklearn.inspection import PartialDependenceDisplay\n",
    "import matplotlib.pyplot as plt\n",
    "\n",
    "# Set a random seed for reproducibility\n",
    "\n",
    "\n",
    "# Generate synthetic data\n",
    "n_samples = 1000\n",
    "X1 =\n",
    "X2 =\n",
    "\n",
    "# Target with interaction: y is only affected by the interaction of X1 and X2\n",
    "y =\n",
    "\n",
    "# Create DataFrame\n",
    "data = pd.DataFrame({'X1': X1, 'X2': X2, 'y': y})\n",
    "\n",
    "# Split data into training and test sets\n",
    "X_train, X_test, y_train, y_test = train_test_split(data[['X1', 'X2']], data['y'], test_size=0.2, random_state=0)\n"
   ]
  },
  {
   "cell_type": "code",
   "execution_count": null,
   "metadata": {
    "id": "cN_95u8-ypYB"
   },
   "outputs": [],
   "source": [
    "# Initialize and train RandomForest\n",
    "model = RandomForestRegressor(n_estimators=100, random_state=0)\n",
    "model.fit(X_train, y_train)\n"
   ]
  },
  {
   "cell_type": "code",
   "execution_count": null,
   "metadata": {
    "id": "pnA6lKoky5Kw"
   },
   "outputs": [],
   "source": [
    "# Plot Partial Dependence for Feature 1\n",
    "fig, ax = plt.subplots(figsize=(8, 4))\n",
    "plot_partial_dependence(model, X_train, features=[0], ax=ax)  # Feature index 0 for X1\n",
    "plt.title(\"Partial Dependence of Feature 1\")\n",
    "plt.show()\n",
    "\n",
    "# Calculate Permutation Importance for Feature 1\n",
    "result = permutation_importance(model, X_test, y_test, n_repeats=10, random_state=0)\n",
    "print(\"Permutation Importance of Feature 1:\", result.importances_mean[0])\n"
   ]
  },
  {
   "cell_type": "markdown",
   "metadata": {
    "id": "aADQOutNMrjV"
   },
   "source": [
    "### Analyse the results obtained via the code given above."
   ]
  },
  {
   "cell_type": "markdown",
   "metadata": {
    "id": "TZGKR-xYIEBJ"
   },
   "source": [
    "### (Regular) Exercise 5\n",
    "In this exercise we will evaluate the impact of feature engineeing on model predictions.\n",
    "The exercise can be approach from different perspective. However, you can choose the following steps:\n",
    "\n",
    "\n",
    "*   Choose a data set (see starter code below)\n",
    "*   build the model\n",
    "*  generate [ALE plots](https://github.com/blent-ai/ALEPython)\n",
    "* Apply some feature engineering ( e.g. binning or normalization or any other).\n",
    "* Build model again with engineerd features\n",
    "* generate again ALE plots for engineered features\n",
    "* analyse both graphs (think about magnitude of effect, shape, direction etc).\n",
    "\n",
    "Starter code is given below:\n",
    "\n",
    "\n"
   ]
  },
  {
   "cell_type": "code",
   "execution_count": null,
   "metadata": {
    "id": "ZGNSG0SkLGHP"
   },
   "outputs": [],
   "source": [
    "# load required packages\n",
    "from sklearn.datasets import load_diabetes\n",
    "import pandas as pd\n",
    "import numpy as np\n",
    "from sklearn.model_selection import train_test_split\n",
    "\n",
    "\n"
   ]
  },
  {
   "cell_type": "code",
   "execution_count": null,
   "metadata": {
    "id": "sM6QpJA8LPvT"
   },
   "outputs": [],
   "source": [
    "# load datasets\n",
    "diabetes_data = load_diabetes()\n",
    "df = pd.DataFrame(data=diabetes_data.data, columns=diabetes_data.feature_names)\n",
    "df['progression'] = diabetes_data.target\n",
    "# split data\n",
    "X_train, X_test, y_train, y_test = train_test_split(\n",
    "    df.drop('progression', axis=1),\n",
    "    df['progression'], test_size=0.2, random_state=42)"
   ]
  },
  {
   "cell_type": "code",
   "execution_count": null,
   "metadata": {
    "id": "BUUr_e14LS1_"
   },
   "outputs": [],
   "source": [
    "# Train the model [fee free to choose another one]\n",
    "from sklearn.ensemble import RandomForestRegressor\n",
    "model = RandomForestRegressor(random_state=42)\n",
    "model.fit(X_train, y_train)\n"
   ]
  },
  {
   "cell_type": "markdown",
   "metadata": {
    "id": "qTG8XfG8MIde"
   },
   "source": [
    "Complete the code from here. You can choose bmi and age as the varibales."
   ]
  },
  {
   "cell_type": "markdown",
   "metadata": {
    "id": "QYerE4thz003"
   },
   "source": [
    "## (Optional) Exercise\n",
    "**Note:**I created this exercise, but I am not sure how much doable it is for students (though I have solution). So, if someone tried it and have suggestion please let me know.\n",
    "\n",
    "In this exercise, you will implement a basic ALE algorithm using Python. You will also explore the impact of different binning strategies on the ALE computation and assess various factors such as accuracy, computational efficiency, and ease of implementation.\n",
    "\n",
    "1. Implement a Basic ALE Algorithm: Implement a function that calculates the ALE for a single continuous feature. Use the provided synthetic dataset for testing your function.\n",
    "\n",
    "2. Experiment with Binning Strategies: Investigate how different binning strategies (equal-width, equal-frequency, and custom bins) affect the ALE calculation. Discuss the trade-offs in terms of accuracy, computational efficiency, and implementation complexity.\n",
    "\n",
    "3. Testing and Validation: Write tests to validate the correctness of your ALE implementation. Check if the accumulated effects increase monotonically for synthetic linear relationships.\n",
    "\n",
    "Dataset\n",
    "A synthetic dataset is provided below for you to use in this exercise.\n"
   ]
  },
  {
   "cell_type": "code",
   "execution_count": null,
   "metadata": {
    "id": "bd5rw28i1FKo"
   },
   "outputs": [],
   "source": [
    "# Synthetic Dataset Generation\n",
    "import numpy as np\n",
    "import pandas as pd\n",
    "\n",
    "np.random.seed(0)\n",
    "X = np.random.uniform(0, 1, size=(100, 1))\n",
    "y = 3 * X.squeeze() + np.random.normal(0, 0.1, size=100)\n",
    "\n",
    "data = pd.DataFrame({'Feature': X.squeeze(), 'Target': y})\n",
    "data.head()"
   ]
  },
  {
   "cell_type": "code",
   "execution_count": null,
   "metadata": {
    "id": "jFUsfADu1SdP"
   },
   "outputs": [],
   "source": [
    "# ALE Algorithm Implementation\n",
    "def calculate_ale(feature_values, model_predictions, n_bins=10):\n",
    "    # Ensure feature_values are sorted\n",
    "\n",
    "\n",
    "    # Compute the bin edges and intervals\n",
    "\n",
    "\n",
    "    # Calculate the ALE values per bin\n",
    "\n",
    "\n",
    "        # Calculate the differences within each bin\n",
    "\n",
    "\n",
    "        # Calculate the accumulated effect\n",
    "\n",
    "\n",
    "    # Get the center of each bin\n",
    "\n",
    "\n",
    "    return bin_centers, ale_effects\n",
    "\n"
   ]
  },
  {
   "cell_type": "markdown",
   "metadata": {
    "id": "uVAzmBwX3hRZ"
   },
   "source": []
  },
  {
   "cell_type": "code",
   "execution_count": null,
   "metadata": {
    "id": "i99G2VGH3z4Q"
   },
   "outputs": [],
   "source": [
    "# Test the function with a linear model\n",
    "from sklearn.linear_model import LinearRegression\n",
    "\n",
    "# Create a simple linear model\n",
    "model = LinearRegression()\n",
    "model.fit(data[['Feature']], data['Target'])\n",
    "\n",
    "# Predictions from the model\n",
    "predictions = model.predict(data[['Feature']])\n",
    "\n",
    "# Calculate ALE\n",
    "feature_centers, ale_effects = calculate_ale(data['Feature'].values, predictions)\n",
    "\n",
    "# Plotting\n",
    "import matplotlib.pyplot as plt\n",
    "plt.figure(figsize=(10, 6))\n",
    "plt.plot(feature_centers, ale_effects, marker='o')\n",
    "plt.title('ALE Plot for the Feature')\n",
    "plt.xlabel('Feature Value')\n",
    "plt.ylabel('Accumulated Local Effect')\n",
    "plt.grid(True)\n",
    "plt.show()"
   ]
  }
 ],
 "metadata": {
  "colab": {
   "provenance": []
  },
  "kernelspec": {
   "display_name": "Python 3 (ipykernel)",
   "language": "python",
   "name": "python3"
  },
  "language_info": {
   "codemirror_mode": {
    "name": "ipython",
    "version": 3
   },
   "file_extension": ".py",
   "mimetype": "text/x-python",
   "name": "python",
   "nbconvert_exporter": "python",
   "pygments_lexer": "ipython3",
   "version": "3.11.3"
  }
 },
 "nbformat": 4,
 "nbformat_minor": 1
}
