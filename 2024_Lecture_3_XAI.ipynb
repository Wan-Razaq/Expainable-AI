{
  "cells": [
    {
      "cell_type": "markdown",
      "metadata": {
        "id": "NCzjoKS8Ksqt"
      },
      "source": [
        "# 2023/24-XAI-LABS\n",
        "Note that this lab has three levels: basic, regular and advanced.\\\n",
        "Doing the **basic** part earns you a grade of 5.5-6.0.\\\n",
        "Doing the **regular** part earns you a max grade of 8.\\\n",
        "Doing the **advanced** part earns you a max grade of 10.0.\n",
        "\n",
        "Please return a Jupyter notebook as a submission in Canvas, to make the grading easier for us.\n",
        "\n",
        "**Group No:** 9\n",
        "\n",
        "**Student Name**: Wan Barmawi Muhammad Razaq\n",
        "\n",
        "**Student Name**: Hakan Tirsi S3105555\n"
      ]
    },
    {
      "cell_type": "markdown",
      "metadata": {
        "id": "erEvOhDMJ9AX"
      },
      "source": [
        "# Lecture 3\n",
        "The following set of exercises are related to the Lecture 3.\n",
        "## Adversarial Attack Simulation\n",
        "Neural Networks are generally not robust and can be fooled easily. You will create adversarial examples using techniques like the Fast Gradient Sign Method (FGSM) and test these against a pretrained model to observe how the predictions change.\n",
        "\n",
        "### (Basic)Exercise 1\n",
        "For the basic part of this exercise you can use the starting code from [here](https://www.tensorflow.org/tutorials/generative/adversarial_fgsm). The task is to use a different image and come up with smallest value of epsilon that completely change the prediction of the model.\n",
        "### (Advanced) Exercise 2\n",
        "Train your own neural network and make it robust against such attack specifically against FGSM.\n"
      ]
    },
    {
      "cell_type": "code",
      "execution_count": null,
      "metadata": {
        "id": "R4QggcdHLltd"
      },
      "outputs": [],
      "source": [
        "# Your code here"
      ]
    },
    {
      "cell_type": "markdown",
      "metadata": {
        "id": "pGeGtGFLNaJg"
      },
      "source": [
        "## Compare Pixel Attribution Methods\n",
        "Apply Saliency Maps, CAM, Grad-CAM, and SmoothGrad to a set of images and analyze the quality of the explanations provided by each method. Write a report discussing the strengths and weaknesses of each technique based on your observations.\n",
        "###(Basic) Exercise 3\n",
        "Implement the following techniques, you can use the existing implementaion availabe as a package [ominixai](https://opensource.salesforce.com/OmniXAI/latest/index.html). You are expected to compare the following methods:\n",
        "\n",
        "- Saliency Maps: Implement a function to compute the saliency map.\n",
        "- CAM: Implement a function to compute CAM.\n",
        "- Grad-CAM: Implement a function to compute Grad-CAM.\n",
        "- SmoothGrad: Implement a function to compute SmoothGrad.\n",
        "\n",
        "### (Regular) Exercise 4\n",
        "\n",
        "Create a function to display the original image alongside the saliency map, CAM, Grad-CAM, and SmoothGrad visualizations for comparison.\n",
        "Display the visualizations for each image.\n",
        "Analysis\n",
        "\n",
        "### (Regular) Exercise 5\n",
        "Compare the results. Some points to look for are:\n",
        "- Which technique provides the most intuitive explanation.\n",
        "- The strengths and weaknesses of each technique.\n",
        "- Any observed differences in the explanations across different images."
      ]
    },
    {
      "cell_type": "code",
      "execution_count": null,
      "metadata": {
        "id": "WxDxZbaVCz6s"
      },
      "outputs": [],
      "source": []
    },
    {
      "cell_type": "markdown",
      "metadata": {
        "id": "vY9ynzlxC19D"
      },
      "source": [
        "## XAI For text Data\n",
        "## (Advanced) Exercise 6\n",
        "In this exercise you will work with text data. The only thing you have to do is to follow the steps of this [tuotorial](https://eli5.readthedocs.io/en/latest/tutorials/sklearn-text.html) and apply it to  a different dataset."
      ]
    },
    {
      "cell_type": "markdown",
      "metadata": {
        "id": "KHwUvulCD7qs"
      },
      "source": [
        "## DeepSHAP (DeepLift)\n"
      ]
    },
    {
      "cell_type": "code",
      "execution_count": null,
      "metadata": {
        "id": "J7lTSGzWFESe"
      },
      "outputs": [],
      "source": [
        "# imports for a deep learning model\n",
        "import torch, torchvision\n",
        "from torchvision import datasets, transforms\n",
        "from torch import nn, optim\n",
        "from torch.nn import functional as F\n",
        "\n",
        "import numpy as np"
      ]
    },
    {
      "cell_type": "markdown",
      "metadata": {
        "id": "mMXPos3NFGnV"
      },
      "source": [
        "### (Regular)Exercise 7\n",
        "Use the shap library and the provided starter code to explain the MNIST data set."
      ]
    },
    {
      "cell_type": "code",
      "execution_count": null,
      "metadata": {
        "id": "Qh-XnbZ1Ff7C"
      },
      "outputs": [],
      "source": [
        "# Train your own NN\n",
        "# Use Shap\n",
        "# display result"
      ]
    },
    {
      "cell_type": "markdown",
      "metadata": {
        "id": "JFDWRz2AF8Hg"
      },
      "source": [
        "### (Regular) Exercise 8\n",
        "Explain what can be understood about the similarity of certain digits as seen by the machine learning model through the explanations."
      ]
    }
  ],
  "metadata": {
    "colab": {
      "provenance": []
    },
    "kernelspec": {
      "display_name": "Python 3",
      "name": "python3"
    },
    "language_info": {
      "name": "python"
    }
  },
  "nbformat": 4,
  "nbformat_minor": 0
}
